{
 "cells": [
  {
   "cell_type": "markdown",
   "metadata": {},
   "source": [
    "# Investigation notebook"
   ]
  },
  {
   "cell_type": "code",
   "execution_count": 1,
   "metadata": {},
   "outputs": [],
   "source": [
    "import os\n",
    "import sys\n",
    "module_path = os.path.abspath(os.path.join('../src'))\n",
    "if module_path not in sys.path:\n",
    "    sys.path.append(module_path)"
   ]
  },
  {
   "cell_type": "code",
   "execution_count": 2,
   "metadata": {},
   "outputs": [
    {
     "data": {
      "text/html": [
       "<div>\n",
       "<style scoped>\n",
       "    .dataframe tbody tr th:only-of-type {\n",
       "        vertical-align: middle;\n",
       "    }\n",
       "\n",
       "    .dataframe tbody tr th {\n",
       "        vertical-align: top;\n",
       "    }\n",
       "\n",
       "    .dataframe thead th {\n",
       "        text-align: right;\n",
       "    }\n",
       "</style>\n",
       "<table border=\"1\" class=\"dataframe\">\n",
       "  <thead>\n",
       "    <tr style=\"text-align: right;\">\n",
       "      <th></th>\n",
       "      <th>product_id</th>\n",
       "      <th>product_category</th>\n",
       "      <th>care_label</th>\n",
       "    </tr>\n",
       "  </thead>\n",
       "  <tbody>\n",
       "    <tr>\n",
       "      <th>0</th>\n",
       "      <td>#113</td>\n",
       "      <td>PANTS</td>\n",
       "      <td>Main: 40% Cotton, 60% Polyester, 290 g/m².\\nCo...</td>\n",
       "    </tr>\n",
       "    <tr>\n",
       "      <th>1</th>\n",
       "      <td>#212</td>\n",
       "      <td>PANTS</td>\n",
       "      <td>Main: DuraTwill, 52% Cotton 48% Polyamide, 240...</td>\n",
       "    </tr>\n",
       "    <tr>\n",
       "      <th>2</th>\n",
       "      <td>#213</td>\n",
       "      <td>PANTS</td>\n",
       "      <td>Main: 40% Cotton, 60% Polyester, 290 g/m².\\nCo...</td>\n",
       "    </tr>\n",
       "    <tr>\n",
       "      <th>3</th>\n",
       "      <td>#214</td>\n",
       "      <td>PANTS</td>\n",
       "      <td>Main: Canvas+, 60% Cotton, 40% Polyester, 340 ...</td>\n",
       "    </tr>\n",
       "    <tr>\n",
       "      <th>4</th>\n",
       "      <td>#312</td>\n",
       "      <td>PANTS</td>\n",
       "      <td>Main: DuraTwill, 52% Cotton 48% Polyamide, 240...</td>\n",
       "    </tr>\n",
       "  </tbody>\n",
       "</table>\n",
       "</div>"
      ],
      "text/plain": [
       "  product_id product_category  \\\n",
       "0       #113            PANTS   \n",
       "1       #212            PANTS   \n",
       "2       #213            PANTS   \n",
       "3       #214            PANTS   \n",
       "4       #312            PANTS   \n",
       "\n",
       "                                          care_label  \n",
       "0  Main: 40% Cotton, 60% Polyester, 290 g/m².\\nCo...  \n",
       "1  Main: DuraTwill, 52% Cotton 48% Polyamide, 240...  \n",
       "2  Main: 40% Cotton, 60% Polyester, 290 g/m².\\nCo...  \n",
       "3  Main: Canvas+, 60% Cotton, 40% Polyester, 340 ...  \n",
       "4  Main: DuraTwill, 52% Cotton 48% Polyamide, 240...  "
      ]
     },
     "execution_count": 2,
     "metadata": {},
     "output_type": "execute_result"
    }
   ],
   "source": [
    "import pandas as pd\n",
    "\n",
    "from process_labels import lower_dataframe\n",
    "\n",
    "#Read file\n",
    "file = pd.read_csv('../data/raw/care_labels.csv')\n",
    "file.head()"
   ]
  },
  {
   "cell_type": "markdown",
   "metadata": {},
   "source": [
    "There is 3 columns:\n",
    "- one conatining ID which should be unique -> to check\n",
    "- one with the category \n",
    "- one with care label which contains more information but no natural language (it seems)"
   ]
  },
  {
   "cell_type": "code",
   "execution_count": 3,
   "metadata": {},
   "outputs": [
    {
     "data": {
      "text/plain": [
       "(573, 3)"
      ]
     },
     "execution_count": 3,
     "metadata": {},
     "output_type": "execute_result"
    }
   ],
   "source": [
    "# Check shape\n",
    "file.shape"
   ]
  },
  {
   "cell_type": "code",
   "execution_count": 4,
   "metadata": {},
   "outputs": [
    {
     "data": {
      "text/plain": [
       "573"
      ]
     },
     "execution_count": 4,
     "metadata": {},
     "output_type": "execute_result"
    }
   ],
   "source": [
    "# check if IDs are unique -> yes (=shape)\n",
    "file.product_id.nunique()"
   ]
  },
  {
   "cell_type": "code",
   "execution_count": 5,
   "metadata": {},
   "outputs": [
    {
     "data": {
      "text/plain": [
       "array(['ACCESSORY/BELT', 'ACCESSORY/CAP-HAT', 'ACCESSORY/HEADBAND',\n",
       "       'ACCESSORY/KEYCHAIN', 'ACCESSORY/KNEEPAD', 'ACCESSORY/KNIT-CAP',\n",
       "       'ACCESSORY/MASK', 'ACCESSORY/PHONE-CASE', 'ACCESSORY/SCARF',\n",
       "       'ACCESSORY/SUN-HAT', 'ACCESSORY/WALLET', 'BAG/LARGE', 'BAG/MEDIUM',\n",
       "       'GLOVES', 'HOSIERY/LEGGINGS', 'HOSIERY/SOCKS', 'JACKET',\n",
       "       'JACKET/COAT', 'PANTS', 'PANTS/SHORTS', 'SHIRT', 'SWEATER',\n",
       "       'SWEATER/HOODIE', 'TSHIRT', 'TSHIRT/LONG-SLEEVE',\n",
       "       'TSHIRT/TANK-TOP', 'UNDERWEAR/BOXERS', 'UNDERWEAR/BRA',\n",
       "       'UNDERWEAR/PANTIES', 'UNKNOWN', 'WORKWEAR/COVERALL'], dtype=object)"
      ]
     },
     "execution_count": 5,
     "metadata": {},
     "output_type": "execute_result"
    }
   ],
   "source": [
    "# See what the categories are\n",
    "file.product_category.sort_values().unique()"
   ]
  },
  {
   "cell_type": "markdown",
   "metadata": {},
   "source": [
    "- \"clean\" categories: all in upper char, same spelling (no typo / plural-singular difference)\n",
    "- Some categories also have subcategories but some do not\n",
    "- One unknown category "
   ]
  },
  {
   "cell_type": "code",
   "execution_count": 6,
   "metadata": {},
   "outputs": [
    {
     "data": {
      "text/plain": [
       "product_category\n",
       "ACCESSORY/BELT           16\n",
       "ACCESSORY/CAP-HAT         9\n",
       "ACCESSORY/HEADBAND        1\n",
       "ACCESSORY/KEYCHAIN        1\n",
       "ACCESSORY/KNEEPAD         8\n",
       "ACCESSORY/KNIT-CAP       17\n",
       "ACCESSORY/MASK            5\n",
       "ACCESSORY/PHONE-CASE     12\n",
       "ACCESSORY/SCARF           1\n",
       "ACCESSORY/SUN-HAT         2\n",
       "ACCESSORY/WALLET          4\n",
       "BAG/LARGE                 1\n",
       "BAG/MEDIUM                2\n",
       "GLOVES                   22\n",
       "HOSIERY/LEGGINGS          8\n",
       "HOSIERY/SOCKS            27\n",
       "JACKET                  108\n",
       "JACKET/COAT               4\n",
       "PANTS                   139\n",
       "PANTS/SHORTS             26\n",
       "SHIRT                    38\n",
       "SWEATER                   3\n",
       "SWEATER/HOODIE           35\n",
       "TSHIRT                   51\n",
       "TSHIRT/LONG-SLEEVE       19\n",
       "TSHIRT/TANK-TOP           1\n",
       "UNDERWEAR/BOXERS          3\n",
       "UNDERWEAR/BRA             1\n",
       "UNDERWEAR/PANTIES         1\n",
       "UNKNOWN                   5\n",
       "WORKWEAR/COVERALL         3\n",
       "dtype: int64"
      ]
     },
     "execution_count": 6,
     "metadata": {},
     "output_type": "execute_result"
    }
   ],
   "source": [
    "\n",
    "groupby_product = file.groupby('product_category').size()\n",
    "groupby_product"
   ]
  },
  {
   "cell_type": "markdown",
   "metadata": {},
   "source": [
    "Some categories only have one corresponding item"
   ]
  },
  {
   "cell_type": "markdown",
   "metadata": {},
   "source": [
    "## Unknown category investigation"
   ]
  },
  {
   "cell_type": "code",
   "execution_count": 7,
   "metadata": {},
   "outputs": [
    {
     "data": {
      "text/html": [
       "<div>\n",
       "<style scoped>\n",
       "    .dataframe tbody tr th:only-of-type {\n",
       "        vertical-align: middle;\n",
       "    }\n",
       "\n",
       "    .dataframe tbody tr th {\n",
       "        vertical-align: top;\n",
       "    }\n",
       "\n",
       "    .dataframe thead th {\n",
       "        text-align: right;\n",
       "    }\n",
       "</style>\n",
       "<table border=\"1\" class=\"dataframe\">\n",
       "  <thead>\n",
       "    <tr style=\"text-align: right;\">\n",
       "      <th></th>\n",
       "      <th>product_id</th>\n",
       "      <th>product_category</th>\n",
       "      <th>care_label</th>\n",
       "    </tr>\n",
       "  </thead>\n",
       "  <tbody>\n",
       "    <tr>\n",
       "      <th>437</th>\n",
       "      <td>#9082</td>\n",
       "      <td>UNKNOWN</td>\n",
       "      <td>100% Cotton, 340 g/m².</td>\n",
       "    </tr>\n",
       "    <tr>\n",
       "      <th>539</th>\n",
       "      <td>#9700</td>\n",
       "      <td>UNKNOWN</td>\n",
       "      <td>100% ripstop polyamide</td>\n",
       "    </tr>\n",
       "    <tr>\n",
       "      <th>540</th>\n",
       "      <td>#9716</td>\n",
       "      <td>UNKNOWN</td>\n",
       "      <td>100% ripstop polyamide</td>\n",
       "    </tr>\n",
       "    <tr>\n",
       "      <th>541</th>\n",
       "      <td>#9736</td>\n",
       "      <td>UNKNOWN</td>\n",
       "      <td>100% ripstop polyamide</td>\n",
       "    </tr>\n",
       "    <tr>\n",
       "      <th>548</th>\n",
       "      <td>#9762</td>\n",
       "      <td>UNKNOWN</td>\n",
       "      <td>100% PVC, conforms to EN 15777</td>\n",
       "    </tr>\n",
       "  </tbody>\n",
       "</table>\n",
       "</div>"
      ],
      "text/plain": [
       "    product_id product_category                      care_label\n",
       "437      #9082          UNKNOWN          100% Cotton, 340 g/m².\n",
       "539      #9700          UNKNOWN          100% ripstop polyamide\n",
       "540      #9716          UNKNOWN          100% ripstop polyamide\n",
       "541      #9736          UNKNOWN          100% ripstop polyamide\n",
       "548      #9762          UNKNOWN  100% PVC, conforms to EN 15777"
      ]
     },
     "execution_count": 7,
     "metadata": {},
     "output_type": "execute_result"
    }
   ],
   "source": [
    "# check if unknown category items have other information available\n",
    "file[file.product_category==\"UNKNOWN\"]"
   ]
  },
  {
   "cell_type": "markdown",
   "metadata": {},
   "source": [
    "- other columns are correclty filled in\n",
    "- care label could help us retrieve what type of item it is by comparing with known items"
   ]
  },
  {
   "cell_type": "code",
   "execution_count": 8,
   "metadata": {},
   "outputs": [
    {
     "data": {
      "text/html": [
       "<div>\n",
       "<style scoped>\n",
       "    .dataframe tbody tr th:only-of-type {\n",
       "        vertical-align: middle;\n",
       "    }\n",
       "\n",
       "    .dataframe tbody tr th {\n",
       "        vertical-align: top;\n",
       "    }\n",
       "\n",
       "    .dataframe thead th {\n",
       "        text-align: right;\n",
       "    }\n",
       "</style>\n",
       "<table border=\"1\" class=\"dataframe\">\n",
       "  <thead>\n",
       "    <tr style=\"text-align: right;\">\n",
       "      <th></th>\n",
       "      <th>product_id</th>\n",
       "      <th>product_category</th>\n",
       "      <th>care_label</th>\n",
       "    </tr>\n",
       "  </thead>\n",
       "  <tbody>\n",
       "    <tr>\n",
       "      <th>537</th>\n",
       "      <td>#9623</td>\n",
       "      <td>BAG/MEDIUM</td>\n",
       "      <td>100% ripstop polyamide</td>\n",
       "    </tr>\n",
       "    <tr>\n",
       "      <th>538</th>\n",
       "      <td>#9626</td>\n",
       "      <td>BAG/MEDIUM</td>\n",
       "      <td>100% ripstop polyamide</td>\n",
       "    </tr>\n",
       "    <tr>\n",
       "      <th>539</th>\n",
       "      <td>#9700</td>\n",
       "      <td>UNKNOWN</td>\n",
       "      <td>100% ripstop polyamide</td>\n",
       "    </tr>\n",
       "    <tr>\n",
       "      <th>540</th>\n",
       "      <td>#9716</td>\n",
       "      <td>UNKNOWN</td>\n",
       "      <td>100% ripstop polyamide</td>\n",
       "    </tr>\n",
       "    <tr>\n",
       "      <th>541</th>\n",
       "      <td>#9736</td>\n",
       "      <td>UNKNOWN</td>\n",
       "      <td>100% ripstop polyamide</td>\n",
       "    </tr>\n",
       "  </tbody>\n",
       "</table>\n",
       "</div>"
      ],
      "text/plain": [
       "    product_id product_category              care_label\n",
       "537      #9623       BAG/MEDIUM  100% ripstop polyamide\n",
       "538      #9626       BAG/MEDIUM  100% ripstop polyamide\n",
       "539      #9700          UNKNOWN  100% ripstop polyamide\n",
       "540      #9716          UNKNOWN  100% ripstop polyamide\n",
       "541      #9736          UNKNOWN  100% ripstop polyamide"
      ]
     },
     "execution_count": 8,
     "metadata": {},
     "output_type": "execute_result"
    }
   ],
   "source": [
    "file[file.care_label=='100% ripstop polyamide']"
   ]
  },
  {
   "cell_type": "markdown",
   "metadata": {},
   "source": [
    "It looks like the #9700, #9716 and #9736 could be bags. This information should be confirmed by the data supplier. The other UNKNOWN items should also be clarified."
   ]
  },
  {
   "cell_type": "code",
   "execution_count": 9,
   "metadata": {},
   "outputs": [
    {
     "data": {
      "text/html": [
       "<div>\n",
       "<style scoped>\n",
       "    .dataframe tbody tr th:only-of-type {\n",
       "        vertical-align: middle;\n",
       "    }\n",
       "\n",
       "    .dataframe tbody tr th {\n",
       "        vertical-align: top;\n",
       "    }\n",
       "\n",
       "    .dataframe thead th {\n",
       "        text-align: right;\n",
       "    }\n",
       "</style>\n",
       "<table border=\"1\" class=\"dataframe\">\n",
       "  <thead>\n",
       "    <tr style=\"text-align: right;\">\n",
       "      <th></th>\n",
       "      <th>item_count</th>\n",
       "      <th>label_count</th>\n",
       "    </tr>\n",
       "    <tr>\n",
       "      <th>product_category</th>\n",
       "      <th></th>\n",
       "      <th></th>\n",
       "    </tr>\n",
       "  </thead>\n",
       "  <tbody>\n",
       "    <tr>\n",
       "      <th>ACCESSORY/BELT</th>\n",
       "      <td>16</td>\n",
       "      <td>14</td>\n",
       "    </tr>\n",
       "    <tr>\n",
       "      <th>ACCESSORY/CAP-HAT</th>\n",
       "      <td>9</td>\n",
       "      <td>9</td>\n",
       "    </tr>\n",
       "    <tr>\n",
       "      <th>ACCESSORY/HEADBAND</th>\n",
       "      <td>1</td>\n",
       "      <td>1</td>\n",
       "    </tr>\n",
       "    <tr>\n",
       "      <th>ACCESSORY/KEYCHAIN</th>\n",
       "      <td>1</td>\n",
       "      <td>1</td>\n",
       "    </tr>\n",
       "    <tr>\n",
       "      <th>ACCESSORY/KNEEPAD</th>\n",
       "      <td>8</td>\n",
       "      <td>7</td>\n",
       "    </tr>\n",
       "    <tr>\n",
       "      <th>ACCESSORY/KNIT-CAP</th>\n",
       "      <td>17</td>\n",
       "      <td>15</td>\n",
       "    </tr>\n",
       "    <tr>\n",
       "      <th>ACCESSORY/MASK</th>\n",
       "      <td>5</td>\n",
       "      <td>5</td>\n",
       "    </tr>\n",
       "    <tr>\n",
       "      <th>ACCESSORY/PHONE-CASE</th>\n",
       "      <td>12</td>\n",
       "      <td>5</td>\n",
       "    </tr>\n",
       "    <tr>\n",
       "      <th>ACCESSORY/SCARF</th>\n",
       "      <td>1</td>\n",
       "      <td>1</td>\n",
       "    </tr>\n",
       "    <tr>\n",
       "      <th>ACCESSORY/SUN-HAT</th>\n",
       "      <td>2</td>\n",
       "      <td>2</td>\n",
       "    </tr>\n",
       "    <tr>\n",
       "      <th>ACCESSORY/WALLET</th>\n",
       "      <td>4</td>\n",
       "      <td>4</td>\n",
       "    </tr>\n",
       "    <tr>\n",
       "      <th>BAG/LARGE</th>\n",
       "      <td>1</td>\n",
       "      <td>1</td>\n",
       "    </tr>\n",
       "    <tr>\n",
       "      <th>BAG/MEDIUM</th>\n",
       "      <td>2</td>\n",
       "      <td>1</td>\n",
       "    </tr>\n",
       "    <tr>\n",
       "      <th>GLOVES</th>\n",
       "      <td>22</td>\n",
       "      <td>21</td>\n",
       "    </tr>\n",
       "    <tr>\n",
       "      <th>HOSIERY/LEGGINGS</th>\n",
       "      <td>8</td>\n",
       "      <td>8</td>\n",
       "    </tr>\n",
       "    <tr>\n",
       "      <th>HOSIERY/SOCKS</th>\n",
       "      <td>27</td>\n",
       "      <td>24</td>\n",
       "    </tr>\n",
       "    <tr>\n",
       "      <th>JACKET</th>\n",
       "      <td>108</td>\n",
       "      <td>95</td>\n",
       "    </tr>\n",
       "    <tr>\n",
       "      <th>JACKET/COAT</th>\n",
       "      <td>4</td>\n",
       "      <td>4</td>\n",
       "    </tr>\n",
       "    <tr>\n",
       "      <th>PANTS</th>\n",
       "      <td>139</td>\n",
       "      <td>113</td>\n",
       "    </tr>\n",
       "    <tr>\n",
       "      <th>PANTS/SHORTS</th>\n",
       "      <td>26</td>\n",
       "      <td>23</td>\n",
       "    </tr>\n",
       "    <tr>\n",
       "      <th>SHIRT</th>\n",
       "      <td>38</td>\n",
       "      <td>27</td>\n",
       "    </tr>\n",
       "    <tr>\n",
       "      <th>SWEATER</th>\n",
       "      <td>3</td>\n",
       "      <td>3</td>\n",
       "    </tr>\n",
       "    <tr>\n",
       "      <th>SWEATER/HOODIE</th>\n",
       "      <td>35</td>\n",
       "      <td>30</td>\n",
       "    </tr>\n",
       "    <tr>\n",
       "      <th>TSHIRT</th>\n",
       "      <td>51</td>\n",
       "      <td>42</td>\n",
       "    </tr>\n",
       "    <tr>\n",
       "      <th>TSHIRT/LONG-SLEEVE</th>\n",
       "      <td>19</td>\n",
       "      <td>17</td>\n",
       "    </tr>\n",
       "    <tr>\n",
       "      <th>TSHIRT/TANK-TOP</th>\n",
       "      <td>1</td>\n",
       "      <td>1</td>\n",
       "    </tr>\n",
       "    <tr>\n",
       "      <th>UNDERWEAR/BOXERS</th>\n",
       "      <td>3</td>\n",
       "      <td>3</td>\n",
       "    </tr>\n",
       "    <tr>\n",
       "      <th>UNDERWEAR/BRA</th>\n",
       "      <td>1</td>\n",
       "      <td>1</td>\n",
       "    </tr>\n",
       "    <tr>\n",
       "      <th>UNDERWEAR/PANTIES</th>\n",
       "      <td>1</td>\n",
       "      <td>1</td>\n",
       "    </tr>\n",
       "    <tr>\n",
       "      <th>UNKNOWN</th>\n",
       "      <td>5</td>\n",
       "      <td>3</td>\n",
       "    </tr>\n",
       "    <tr>\n",
       "      <th>WORKWEAR/COVERALL</th>\n",
       "      <td>3</td>\n",
       "      <td>3</td>\n",
       "    </tr>\n",
       "  </tbody>\n",
       "</table>\n",
       "</div>"
      ],
      "text/plain": [
       "                      item_count  label_count\n",
       "product_category                             \n",
       "ACCESSORY/BELT                16           14\n",
       "ACCESSORY/CAP-HAT              9            9\n",
       "ACCESSORY/HEADBAND             1            1\n",
       "ACCESSORY/KEYCHAIN             1            1\n",
       "ACCESSORY/KNEEPAD              8            7\n",
       "ACCESSORY/KNIT-CAP            17           15\n",
       "ACCESSORY/MASK                 5            5\n",
       "ACCESSORY/PHONE-CASE          12            5\n",
       "ACCESSORY/SCARF                1            1\n",
       "ACCESSORY/SUN-HAT              2            2\n",
       "ACCESSORY/WALLET               4            4\n",
       "BAG/LARGE                      1            1\n",
       "BAG/MEDIUM                     2            1\n",
       "GLOVES                        22           21\n",
       "HOSIERY/LEGGINGS               8            8\n",
       "HOSIERY/SOCKS                 27           24\n",
       "JACKET                       108           95\n",
       "JACKET/COAT                    4            4\n",
       "PANTS                        139          113\n",
       "PANTS/SHORTS                  26           23\n",
       "SHIRT                         38           27\n",
       "SWEATER                        3            3\n",
       "SWEATER/HOODIE                35           30\n",
       "TSHIRT                        51           42\n",
       "TSHIRT/LONG-SLEEVE            19           17\n",
       "TSHIRT/TANK-TOP                1            1\n",
       "UNDERWEAR/BOXERS               3            3\n",
       "UNDERWEAR/BRA                  1            1\n",
       "UNDERWEAR/PANTIES              1            1\n",
       "UNKNOWN                        5            3\n",
       "WORKWEAR/COVERALL              3            3"
      ]
     },
     "execution_count": 9,
     "metadata": {},
     "output_type": "execute_result"
    }
   ],
   "source": [
    "# Check if items can be identified thanks to their label \n",
    "\n",
    "groupby_product = pd.DataFrame(groupby_product,columns = [\"item_count\"])\n",
    "groupby_product['label_count'] = file.groupby(['product_category'])['care_label'].nunique()\n",
    "groupby_product"
   ]
  },
  {
   "cell_type": "markdown",
   "metadata": {},
   "source": [
    "There is almost as many labels as unique items. So knowing the label doesn't really help to identify the article. "
   ]
  },
  {
   "cell_type": "markdown",
   "metadata": {},
   "source": [
    "# Care label investigation"
   ]
  },
  {
   "cell_type": "code",
   "execution_count": 10,
   "metadata": {},
   "outputs": [
    {
     "data": {
      "text/plain": [
       "0     Main: 40% Cotton, 60% Polyester, 290 g/m².\\nContrast: 53% Cotton 47% Polyester, 290 g/m².\\nReinforcement Knee: 100% CORDURA®-Polyamide, 205 g/m².                                                                                                                                                                                                        \n",
       "1     Main: DuraTwill, 52% Cotton 48% Polyamide, 240 g/m².\\nReinforcement: 100% CORDURA®-Polyamide.                                                                                                                                                                                                                                                            \n",
       "2     Main: 40% Cotton, 60% Polyester, 290 g/m².\\nContrast: 53% Cotton, 47% Polyester, 290 g/m².\\nReinforcement Knee: 100% CORDURA®-Polyamide, 205 g/m².                                                                                                                                                                                                       \n",
       "3     Main: Canvas+, 60% Cotton, 40% Polyester, 340 g/m². Reinforcement: 100% CORDURA®-Polyamide.                                                                                                                                                                                                                                                              \n",
       "4     Main: DuraTwill, 52% Cotton 48% Polyamide, 240 g/m². \\nReinforcement: 100% CORDURA®-Polyamide.                                                                                                                                                                                                                                                           \n",
       "5     Main: 100% polyamide, 220 g/m2. Reinforcement: 100% polyamide CORDURA®, 205 g/m². Lining: 100% solution dyed polyamide 65 g/m². Cuff stretch: 90% polyester 10% elastane, 253 g/m².  Insulation: 50% 37.5® polyester, 35% REPREVE® recycled polyester, 15% polyester, 120 g/m². Mesh: 100% polyester, 367 g/m². Pocket lining: 100% polyester, 215 g/m². \n",
       "6     Main: 100% polyamide, 220 g/m2. Reinforcement: 100% polyamide CORDURA®, 205 g/m². Lining: 100% solution dyed polyamide 65 g/m². Cuff stretch: 90% polyester 10% elastane, 253 g/m².  Insulation: 50% 37.5® polyester, 35% REPREVE® recycled polyester, 15% polyester, 120 g/m². Mesh: 100% polyester, 367 g/m². Pocket lining: 100% polyester, 215 g/m². \n",
       "7     Main: 100% Recycled Polyamide, 175 gr. Reinforcement: 100% CORDURA® Polyamide, 190 gr. Insulation: 90% REPREVE® recycled polyester, 10% Recycled Polyester, 120 gr in body and sleeves. Lining: 100% Polyamide.\\n                                                                                                                                        \n",
       "8     Main: 100% polyamide, 220 g/m2. Reinforcement: 100% polyamide CORDURA®, 205 g/m². Lining: 100% solution dyed polyamide 65 g/m². Cuff stretch: 90% polyester 10% elastane, 253 g/m².  Insulation: 50% 37.5® polyester, 35% REPREVE® recycled polyester, 15% polyester, 120 g/m². Mesh: 100% polyester, 367 g/m². Pocket lining: 100% polyester, 215 g/m². \n",
       "9     Main: 100% Recycled Polyamide, 175 gr. \\nReinforcement: 100% CORDURA® Polyamide, 190 gr. Insulation: 90% REPREVE® recycled polyester, 10% Recycled Polyester, 120 gr in body and sleeves.                                                            \\nLining: 100% Polyamide.                                                                           \n",
       "10    Main: 100% Recycled Polyamide, 175 gr.                Reinforcement: 100% CORDURA® Polyamide, 190 gr.                     Insulation: 90% REPREVE® recycled polyester, 10% Recycled Polyester, 120 gr in body and sleeves.                                                                               Lining: 100% Polyamide.                         \n",
       "11    Main: 100% polyamide, 220 g/m2. Reinforcement: 100% polyamide CORDURA®, 205 g/m². Lining: 100% solution dyed polyamide 65 g/m². Cuff stretch: 90% polyester 10% elastane, 253 g/m².  Insulation: 50% 37.5® polyester, 35% REPREVE® recycled polyester, 15% polyester, 120 g/m². Mesh: 100% polyester, 367 g/m². Pocket lining: 100% polyester, 215 g/m². \n",
       "12    Main: 100% polyester 230 g/m². Reinforcement: 100% CORDURA® polyamide, 205 g/m². Lining: 100% solution dyed polyamide, 65 g/m². Insulation: 50% 37.5® polyester, 35% REPREVE® recycled polyester, 15% polyester, 120 g/m²                                                                                                                                \n",
       "13    Main: 100% polyester 230 g/m². Contrast main: 100% polyamide, 250 g/m². Reinforcement: 100% CORDURA® polyamide 305 g/m². Cuff stretch: 90% polyester 10% elastane, 253 g/m².  Insulation: 50% 37.5® polyester, 35% REPREVE® recycled polyester, 15% polyester 120 g/m². Pocket lining: 100% polyester, 215 g/m²                                          \n",
       "14    Main: 100% polyester 230 g/m². Reinforcement: 100% polyamide CORDURA® 205 g/m². Lining: 100% solution dyed polyamide 65 g/m². Cuff stretch: 90% polyester 10% elastane, 253 g/m².  Insulation: 50% 37.5® polyester, 35% REPREVE® recycled polyester, 15% polyester, 120 g/m². Mesh: 100% polyester, 367 g/m². Pocket lining: 100% polyester, 215 g/m²    \n",
       "15    Main: 100% polyester, 230 g/m². Lining: 100% solution dyed polyamide 65 g/m². Padding: 100% polyester 120 g/m². Pocket lining: 100% polyester, 215 g/m². Collar lining: 100% polyester, 350 g/m²                                                                                                                                                         \n",
       "16    Main: 100% polyester, 175 g/m². Contrast: 100% polyamide, 220 g/m². Lining: 100% solution dyed polyamide, 65 g/m². Insulation: 100% polyester. Pocket lining: 100% polyester, 215 g/m²                                                                                                                                                                   \n",
       "17    Main: 100% Polyamide, 175 gr. Reinforcement: 100% CORDURA® Polyamide, 190 gr. Insulation: 90% REPREVE® recycled polyester, 10% Recycled Polyester, 120 gr in body and sleeves. Lining: 100% Polyamide.                                                                                                                                                   \n",
       "18    Main: 55% Protal, 44% cotton, 1% antistatic, PU laminated, 265 g/m². Lining: 40% modacrylic FR, 37% viscose FR, 22% regenerated viscose, 1% antistatic, 180 g/m². Padding: 100% polyester, 110 g/m².                                                                                                                                                     \n",
       "19    Main: 31% polyester, 28% modacrylic, 20% Aramid Kermel®, 20% CV FR, 1% antistatic, 320 g/m2. \\nLining: 40% modacrylic FR, 37% viscose FR, 22% regenerated viscose, 1% antistatic, 180 g/m².\\nPadding: 100% polyester, 120 g/m²\\n                                                                                                                         \n",
       "Name: care_label, dtype: object"
      ]
     },
     "execution_count": 10,
     "metadata": {},
     "output_type": "execute_result"
    }
   ],
   "source": [
    "pd.set_option('display.max_colwidth', 1)\n",
    "file.care_label.head(20)"
   ]
  },
  {
   "cell_type": "markdown",
   "metadata": {},
   "source": [
    "The first 20 rows (at least) follow the same structure :\n",
    "- Definition of the main part composition (\"Main\" + \":\", followed by percentage and the name of materials)\n",
    "- Definition of other parts composition with their name specified (f\"{other_part}\" + \":\", followed by percentage and the name of materials)\n",
    "- Weight is indicated for each part - sometimes not for all parts. Not always in the same uom (g/m2, gr)\n",
    "- Some materials are patented\n",
    "- Sometimes the country (of production?) is indicated\n",
    "- No natural language, only composition\n",
    "- Upper and lower characters \n",
    "- Line escapes characters\n",
    "- Multiple spaces in succession\n",
    "- All in english"
   ]
  },
  {
   "cell_type": "code",
   "execution_count": 11,
   "metadata": {},
   "outputs": [
    {
     "data": {
      "text/plain": [
       "553    100% leather                                                                                                                                                                 \n",
       "554    100% Nylon, 100% CORDURA®-Polyamide.\\nLeather pouches.                                                                                                                       \n",
       "555    100% Nylon,100% Polyamide.                                                                                                                                                   \n",
       "556    100% Leather.                                                                                                                                                                \n",
       "557    100% Polyamide.                                                                                                                                                              \n",
       "558    31% polyester, 28% modacrylic, 20% Aramid Kermel®, 20% CV FR, 1% antistatic, 320 g/m2.                                                                                       \n",
       "559    100% Nylon, 100% CORDURA®-Polyamide. Leather pouches.                                                                                                                        \n",
       "560    Belt in 100% Nylon, Pouches 100% Polyamide.                                                                                                                                  \n",
       "561    Main: 49% Modacrylic FR, 42% Cotton, 5% Aramid, 3% Polyamide, 1% Antistatic, 300g/m²\\nReinforcement: 54% Polyester 24% Aramide, 13% Polyamide, 9% Polyurethane, 450 g/m².    \n",
       "562    100% Leather.                                                                                                                                                                \n",
       "563    100% Polyamide.                                                                                                                                                              \n",
       "564    Main: 49% modacrylic FR, 42% cotton, 5% aramid, 3% polyamide, 1% antistatic, 300 g/m2.\\nReinforcement: 54% polyester 24% aramide, 13% polyamide, 9% polyurethane, 450 g/m2.\\n\n",
       "565    100% Nylon, 100% CORDURA®-Polyamide.                                                                                                                                         \n",
       "566    100% Nylon.                                                                                                                                                                  \n",
       "567    49% Modacrylic FR, 42% Cotton, 5% Aramid, 3% Polyamide, 1% Antistatic, 300g/m².                                                                                              \n",
       "568    100% CORDURA®-Polyamide 300 g/m².                                                                                                                                            \n",
       "569    100% Leather.                                                                                                                                                                \n",
       "570    100% Polyamide.                                                                                                                                                              \n",
       "571    49% modacrylic FR, 42% cotton, 5% aramid, 3% polyamide, 1% antistatic, 300 g/m2.                                                                                             \n",
       "572    100% polyamide                                                                                                                                                               \n",
       "Name: care_label, dtype: object"
      ]
     },
     "execution_count": 11,
     "metadata": {},
     "output_type": "execute_result"
    }
   ],
   "source": [
    "file.care_label.tail(20)"
   ]
  },
  {
   "cell_type": "markdown",
   "metadata": {},
   "source": [
    "The last 20 rows (at least) are not following the same structure as the first rows:\n",
    "- They don't follow specific format (Main definition, other part definition followed by \":\")\n",
    "- There is a bit of natural language \"Belt in 100% Nylon, Pouches 100% Polyamide.\"\n",
    "- Upper and lower characters\n",
    "- Still have percentages followed by name of compound."
   ]
  },
  {
   "cell_type": "code",
   "execution_count": 12,
   "metadata": {},
   "outputs": [
    {
     "name": "stdout",
     "output_type": "stream",
     "text": [
      "---\n",
      "0\n",
      "Main: 40% Cotton, 60% Polyester, 290 g/m².\n",
      "Contrast: 53% Cotton 47% Polyester, 290 g/m².\n",
      "Reinforcement Knee: 100% CORDURA®-Polyamide, 205 g/m².\n",
      "---\n",
      "40\n",
      "Main: 100% polyester, 137 g/m². Lining: 100% solution dyed polyamide, 65 g/m². Pocket lining: 100% polyester, 69 g/m²\n",
      "---\n",
      "80\n",
      "100% Cotton, Col. 2800: 95% Cotton, 5% Viscose 160 g/m².\n",
      "---\n",
      "120\n",
      "65% Polyester, 35% Cotton 220 g/m².\n",
      "---\n",
      "160\n",
      "Colour 0400, 1604, 3904, 9504: 60% cotton, 40% polyester, 400 g/m². Colour 2804: Main: 55% cotton, 45% polyester, 400 g/m². Contrast: 60% cotton, 40% polyester, 400 g/m².\n",
      "---\n",
      "200\n",
      "Main: 88% polyester, 12% elastane, 218 g/m2.\n",
      "\n",
      "\n",
      "---\n",
      "240\n",
      "Main: 63% polyester, 37% cotton, 360 g/m². Reinforcement 1: 100% polyamide CORDURA®, 205 g/m². Reinforcement 2: 100% polyester CORDURA®, 320 g/m².\n",
      "---\n",
      "280\n",
      "Main: 55% Protal, 44% Cotton, 1% Antistatic, 275 gram. Reinforcement: 39% Modacrylic, 28% CORDURA®, 17% Cotton, 15% Aramid, 1% Antistatic, 270 gram.\n",
      "---\n",
      "320\n",
      "Main: 100% polyester; 200 g/m2.Contrast: 88% polyamide CORDURA®, 12% elastane, 275 g/m2.Reinforcement: 100% polyamide CORDURA®, 205 g/m².\n",
      "---\n",
      "360\n",
      "Main face: 71% recycled polyester, 25% polyester, 4% elastane, Main backing: 95% recycled polyester, 5% elastane, 388 g/m². Contrast: 95% recycled polyester, 5% elastane 290 g/m². Pocket lining: 100% polyester, 69 g/m². \n",
      "---\n",
      "400\n",
      "100% merino wool, 160 g/m2.\n",
      "---\n",
      "440\n",
      "100% windproof 2-layer GORE WINDSTOPPER®, 30% Wool and 70% Acrylic.\n",
      "---\n",
      "480\n",
      "50% Polyamide, 50% Nitrile.\n"
     ]
    }
   ],
   "source": [
    "# display other lines\n",
    "for i in range(0,500,40):\n",
    "    print(\"---\")\n",
    "    print(i)\n",
    "    print(file.iloc[i,2])"
   ]
  },
  {
   "cell_type": "markdown",
   "metadata": {},
   "source": [
    "In addition, colors can be indicated. It seems they are indicated by first mentioning 'color or 'colour' or 'col.' (to verify) and then the colors IDs (4 digits).\n",
    "There can be different composition depending on colors."
   ]
  },
  {
   "cell_type": "markdown",
   "metadata": {},
   "source": [
    "# Information we can retrieve from the file"
   ]
  },
  {
   "cell_type": "markdown",
   "metadata": {},
   "source": [
    "- item ID\n",
    "- category\n",
    "- subcategory\n",
    "- color\n",
    "- part (main/reinforcement,..).  default to main if no info\n",
    "- composition : % and material and  country of origin \n",
    "- weight\n",
    "\n",
    "But first need to clean the text : \n",
    "- remove extra spaces\n",
    "- rm escape lines\n",
    "- remove small words \n",
    "- lower all text\n",
    "- normalize unit of measure of weight\n",
    "- normalize 'color' identifier\n"
   ]
  },
  {
   "cell_type": "code",
   "execution_count": 13,
   "metadata": {},
   "outputs": [
    {
     "data": {
      "text/plain": [
       "['main: 100% polyester, 230 g/m². lining: 100% solution dyed polyamide 65 g/m². padding: 100% polyester 120 g/m². pocket lining: 100% polyester, 215 g/m². collar lining: 100% polyester, 350 g/m²',\n",
       " 'main: 47% cotton, 53% polyester, 237 g/m².  contrast: 91.5% polyamide, 8.5% elastane, 250 g/m².   colour 0904; main: 61% polyester 39% sorona® polyester, 252 g/m².  contrast: 91.5% polyamide, 8.5% elastane, 250 g/m²',\n",
       " 'color 9567: main: 100% polyester, 140 g/m².',\n",
       " 'col 0400, 0900, 5800 and 9500: 100% cotton, 160 g/m2. \\ncol 2800: 95% cotton, 5% viscose, 160 g/m2.\\n',\n",
       " '100% cotton, col. 2800: 95% cotton, 5% viscose 160 g/m².',\n",
       " 'color 9567: main: 100% polyester, 140 g/m².',\n",
       " 'col 0400, 5800 and 9500: 100% cotton, 160 g/m2. \\ncol 2800: 95% cotton, 5% viscose, 160 g/m2.\\n',\n",
       " 'colors: 0400, 0600, 4000, 9500: 100% cotton, 200 g/m². \\ncolor: 3400: 65% polyester, 35% cotton.\\ncolor: 2800: 95% cotton, 5% viscose',\n",
       " 'col 0400 and 3100: 100% cotton, 200 g/m2. \\ncol 2800: 95% cotton, 5 % viscose 200 g/m2. \\ncol 4500: 65% polyester, 35 % cotton, 200 g/m2\\n',\n",
       " 'col 0400: 100% cotton, 200 g/m2. \\ncol 2800: 95% cotton, 5 % viscose 200 g/m2. \\ncol 4500: 65% polyester, 35 % cotton, 200 g/m2\\n',\n",
       " 'colours: 0400, 9500, 2800: 82% cotton, 18% polyester, 280 g/m². colour 3400: 64% cotton, 36% polyester, 280 g/m².',\n",
       " '65% polyester, 35% cotton. col. 2800: 95% cotton, 5% viscose. 220 g/m².',\n",
       " 'colour: 0400, 9500: 60% cotton, 40% polyester, 400 g/m². colour 2800: main: 55% cotton, 45% polyester, 400 g/m².',\n",
       " 'colour: 0400, 9500: 60% cotton, 40% polyester, 400 g/m². \\ncolour 2800: main: 55% cotton, 45% polyester, 400 g/m². \\n',\n",
       " 'col 0400 and 2800: 82% cotton, 18% polyester. \\ncol 4500: 64% cotton, 36% polyester, 280 g/m2.\\n2x2 rib: 97% cotton, 3% elastane, 380 g/m2.\\n',\n",
       " 'colour 0400, 0600, 4000 and 9500: 82% cotton, 18% polyester, 280 g/m2.\\ncolour 3400: 64% cotton, 36% polyester, 280 g/m2.\\ncolour 2800: 82% cotton, 18% polyester, 280 g/m2.',\n",
       " 'colour 0400, 0600, 4000 and 9500: 82% cotton, 18% polyester, 280 g/m2.\\ncolour 3400: 64% cotton, 36% polyester, 280 g/m2.\\ncolour 2800: 82% cotton, 18% polyester, 280 g/m2.',\n",
       " 'colours 0400, 0600, 4000, 9500: 82% cotton, 18% polyester, 280 g/m2.\\ncolour 3400: 64% cotton, 36% polyester, 280 g/m2.\\ncolour 2800: 82% cotton, 18% polyester, 280 g/m2.',\n",
       " 'colours 0400, 1600, 3900, 9500: 60% cotton, 40% polyester, 400 g/m². colour 2800: 55% cotton, 45% polyester, 400 g/m².',\n",
       " 'colour 0400, 1604, 3904, 9504: 60% cotton, 40% polyester, 400 g/m². colour 2804: main: 55% cotton, 45% polyester, 400 g/m². contrast: 60% cotton, 40% polyester, 400 g/m².',\n",
       " 'colour 0400, 1604, 3904, 9504: 60% cotton, 40% polyester, 400 g/m². colour 2804: main: 55% cotton, 45% polyester, 400 g/m².contrast: 60% cotton, 40% polyester, 400 g/m².',\n",
       " 'colour: 0400, 1604, 3904, 9504: 60% cotton, 40% polyester, 400 g/m². colour 2804: main: 55% cotton, 45% polyester, 400 g/m².contrast: 60% cotton, 40% polyester, 400 g/m².',\n",
       " 'colour 0400, 9500: 60% cotton, 40% polyester, 400 g/m².\\ncolour 2800: 55% cotton, 45% polyester, 400 g/m².',\n",
       " 'col 0400, 2800 and 3100: 82% cotton, 18% polyester. \\ncol 4500: 64% cotton, 36% polyester, 280 g/m2.\\n2x2 rib: 97% cotton, 3% elastane, 380 g/m2.\\n',\n",
       " 'col 0400, 2800 and 3100: 82% cotton, 18% polyester. \\ncol 4500: 64% cotton, 36% polyester, 280 g/m2.\\n2x2 rib: 97% cotton, 3% elastane, 380 g/m2.\\n',\n",
       " 'col 0400, 2800 and 3100: 82% cotton, 18% polyester. \\ncol 4500: 64% cotton, 36% polyester, 280 g/m2.\\n2x2 rib: 97% cotton, 3% elastane, 380 g/m2.\\n',\n",
       " 'main: 47% cotton, 53% polyester, 237 g/m2. contrast: 91.5% polyamide, 8.5% elastane, 250 g/m2. reinforcement: 100% polyester, 250 g/m2.\\ncolour 0904; main: 61% polyester 39% sorona® polyester, 252 g/m². contrast: 91.5% polyamide, 8.5% elastane, 250 g/m². reinforcement: 53% solution dyed cordura®polyamide, 47% solution dyed cordura® polyester, 283 g/m². reinforcement: 100% polyamide cordura®, 205 g/m²',\n",
       " 'main: 47% cotton, 53% polyester, 251 g/m². contrast: 91,5% polyamide, 8.5% elastane, 250 g/m². reinforcement: 100% cordura® polyester, 320 g/m². reinforcement: 100% cordura®polyamide, 205 g/m².   colour 0904; main: 61% polyester 39% sorona® polyester, 252 g/m². contrast: 91.5% polyamide, 8.5% elastane, 250 g/m². reinforcement 1: 53% polyamide cordura®, 47% cordura®polyester, 283 g/m². reinforcement: 100% cordura®polyamide, 205 g/m²',\n",
       " 'main: 47% cotton, 53% polyester, 251 g/m². contrast: 91,5% polyamide, 8.5% elastane, 250 g/m². reinforcement: 100% cordura® polyester, 320 g/m². reinforcement: 100% cordura®polyamide, 205 g/m².   colour 0904; main: 61% polyester 39% sorona® polyester, 252 g/m². contrast: 91.5% polyamide, 8.5% elastane, 250 g/m². reinforcement 1: 53% polyamide cordura®, 47% cordura®polyester, 283 g/m². reinforcement: 100% cordura®polyamide, 205 g/m²',\n",
       " 'main: 47% cotton, 53% polyester, 251 g/m². contrast: 91,5% polyamide, 8.5% elastane, 250 g/m². reinforcement: 100% cordura® polyester, 320 g/m². reinforcement: 100% cordura®polyamide, 205 g/m².   \\ncolour 0904; main: 61% polyester 39% sorona® polyester, 252 g/m². contrast: 91.5% polyamide, 8.5% elastane, 250 g/m². reinforcement: 100% cordura®polyamide, 205 g/m²',\n",
       " 'main: 47% cotton, 53% polyester, 251 g/m². contrast: 91,5% polyamide, 8.5% elastane, 250 g/m². reinforcement: 100% cordura® polyester, 320 g/m². reinforcement: 100% cordura® polyamide, 205 g/m².   \\ncolour 0904; main: 61% polyester 39% sorona® polyester, 252 g/m². contrast: 91.5% polyamide, 8.5% elastane, 250 g/m². reinforcement: 100% cordura®polyamide, 205 g/m²',\n",
       " 'main: 47% cotton, 53% polyester, 237 g/m2. contrast: 92% polyamide, 8% elastane, 250 g/m2. reinforcement: 100% polyamide cordura®, 205 g/m2.\\ncolour 0904; main: 61% polyester 39% sorona® polyester, 252 g/m². contrast: 91.5% polyamide, 8.5% elastane, 250 g/m². reinforcement: 100% cordura®polyamide, 205 g/m²',\n",
       " 'colour 0455, 0466 / main: 69% polyamide, 31% cotton, 250 g/m2. contrast: 85% polyester, 15% cotton, 270 g/m2. reinforcement: 100% polyamide cordura®, 205 g/m².colour 9566 / main: 85% polyester, 15% cotton, 270 g/m2. reinforcement: 100% polyamide cordura®, 205 g/m².',\n",
       " 'main: 47% cotton, 53% polyester, 251 g/m². contrast: 91.5% polyamide, 8.5% elastane, 250 g/m². reinforcement: 100% cordura®, polyester 320 g/m². reinforcement: 100% cordura® polyamide, 205 g/m².  colour 0904; main: 61% polyester 39% sorona® polyester, 252 g/m². contrast: 91.5% polyamide, 8.5% elastane, 250 g/m². reinforcement: 53% solution dyed cordura®polyamide, 47% solution dyed cordura® polyester, 283 g/m². reinforcement: 100% polyamide cordura®, 205 g/m²',\n",
       " 'main: 47% cotton, 53% polyester, 251 g/m². contrast: 91.5% polyamide, 8.5% elastane, 250 g/m². reinforcement: 100% cordura®, polyester 320 g/m². reinforcement: 100% cordura® polyamide, 205 g/m².   \\ncolour 0904; main: 61% polyester 39% sorona® polyester, 252 g/m². contrast: 91.5% polyamide, 8.5% elastane, 250 g/m². reinforcement: 53% solution dyed cordura® polyamide, 47% solution dyed cordura® polyester, 283 g/m². reinforcement: 100% polyamide cordura®, 205 g/m²',\n",
       " 'main: 47% cotton, 53% polyester, 251 g/m². contrast: 91.5% polyamide, 8.5% elastane, 250 g/m². reinforcement: 100% cordura®, polyester 320 g/m². reinforcement: 100% cordura® polyamide, 205 g/m².  colour 0904; main: 61% polyester 39% sorona® polyester, 252 g/m². contrast: 91.5% polyamide, 8.5% elastane, 250 g/m². reinforcement: 53% solution dyed cordura®polyamide, 47% solution dyed cordura® polyester, 283 g/m². reinforcement: 100% polyamide cordura®, 205 g/m²',\n",
       " 'main: 47% cotton, 53% polyester, 251 g/m². contrast: 91.5% polyamide, 8.5% elastane, 250 g/m². reinforcement: 100% cordura®, polyester 320 g/m². reinforcement: 100% cordura® polyamide, 205 g/m². colour 0904; main: 61% polyester 39% sorona® polyester, 252 g/m². contrast: 91.5% polyamide, 8.5% elastane, 250 g/m². reinforcement: 53% solution dyed cordura® polyamide, 47% solution dyed cordura® polyester, 283 g/m². reinforcement: 100% polyamide cordura®, 205 g/m²',\n",
       " 'main: 47% cotton, 53% polyester, 251 g/m². contrast: 91.5% polyamide, 8.5% elastane, 250 g/m². reinforcement: 100% cordura®, polyester 320 g/m². reinforcement: 100% cordura® polyamide, 205 g/m².  colour 0904; main: 61% polyester 39% sorona® polyester, 252 g/m². contrast: 91.5% polyamide, 8.5% elastane, 250 g/m². reinforcement: 53% solution dyed cordura® polyamide, 47% solution dyed cordura® polyester, 283 g/m². reinforcement: 100% polyamide cordura®, 205 g/m²',\n",
       " 'col 0400 and 2800: 82% cotton, 18% polyester, 280 g/m2.\\n2x2 rib: 97% cotton, 3% elastane, 380 g/m2.\\n',\n",
       " 'col 0400: 100% cotton, 200 g/m2. \\ncol 2800: 95% cotton, 5 % viscose 200 g/m2. \\n',\n",
       " 'color: 6500/ main: 99% cotton, 1% elastane, 255 g/m².',\n",
       " 'colour 2000/ main: 100% cotton, 230 g/m².']"
      ]
     },
     "execution_count": 13,
     "metadata": {},
     "output_type": "execute_result"
    }
   ],
   "source": [
    "# Check all color identifier \n",
    "lowered_label = lower_dataframe(file[['care_label']])\n",
    "[el for el in lowered_label.care_label.to_list() if 'col' in el]"
   ]
  },
  {
   "cell_type": "markdown",
   "metadata": {},
   "source": [
    "\"color\" identifiers : col, col. , color, colors, colour, colours "
   ]
  }
 ],
 "metadata": {
  "kernelspec": {
   "display_name": "Python 3",
   "language": "python",
   "name": "python3"
  },
  "language_info": {
   "codemirror_mode": {
    "name": "ipython",
    "version": 3
   },
   "file_extension": ".py",
   "mimetype": "text/x-python",
   "name": "python",
   "nbconvert_exporter": "python",
   "pygments_lexer": "ipython3",
   "version": "3.9.6"
  }
 },
 "nbformat": 4,
 "nbformat_minor": 2
}
